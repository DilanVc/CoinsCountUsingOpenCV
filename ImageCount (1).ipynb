{
 "cells": [
  {
   "cell_type": "markdown",
   "id": "cf7fe4a1",
   "metadata": {},
   "source": [
    "## <font color=\"#521921\"> APVC: *Challenge 2*\n",
    "##### Vera Cruz, Dilan.\n",
    "\n",
    "> <font color=\"##194852\">The objective of this exercise is to develop a Python script that reads images containing several coins and \n",
    "and calculates an estimate for the number of coins present in the image.\n",
    "\n",
    "The approach used was:\n",
    "- Binarizing the images (with Otsu method or use fixed thresholds) \n",
    "- Morphological operations in order to: \n",
    "    \n",
    "    1) reduce the noise in the binarized image; \n",
    "    \n",
    "    2) separate the regions corresponding to the coins\n",
    "\n",
    "</font>\n"
   ]
  },
  {
   "cell_type": "code",
   "execution_count": 225,
   "id": "b63b2e0c",
   "metadata": {},
   "outputs": [
    {
     "name": "stdout",
     "output_type": "stream",
     "text": [
      "Requirement already satisfied: opencv-python in c:\\programdata\\anaconda3\\lib\\site-packages (4.8.1.78)\n",
      "Requirement already satisfied: numpy>=1.21.2 in c:\\programdata\\anaconda3\\lib\\site-packages (from opencv-python) (1.24.3)\n"
     ]
    }
   ],
   "source": [
    "!pip install opencv-python"
   ]
  },
  {
   "cell_type": "code",
   "execution_count": 226,
   "id": "3a103f64",
   "metadata": {},
   "outputs": [],
   "source": [
    "import cv2\n",
    "import numpy as np\n",
    "import os"
   ]
  },
  {
   "cell_type": "markdown",
   "id": "a51dd930",
   "metadata": {},
   "source": [
    "# Introduction\n",
    "The appoach used in this assignment was to perform the image processing and the A/B testing in one or two coin images and then proceed to use the same methods in the rest of the images. "
   ]
  },
  {
   "cell_type": "markdown",
   "id": "48416b7e",
   "metadata": {},
   "source": [
    "## Show the images"
   ]
  },
  {
   "cell_type": "code",
   "execution_count": 227,
   "id": "d41f160f",
   "metadata": {},
   "outputs": [],
   "source": [
    "# Change the directory here to the folder where the images are located in your machine.\n",
    "directory = r'C:\\Users\\User\\Downloads\\Desafio2 - contador de moedas-20231006\\Challenge2'"
   ]
  },
  {
   "cell_type": "code",
   "execution_count": 228,
   "id": "36130a2c",
   "metadata": {},
   "outputs": [],
   "source": [
    "for filename in os.listdir(directory):\n",
    "    if filename.endswith(\".jpg\"):\n",
    "        image_path = os.path.join(directory, filename)\n",
    "\n",
    "        image = cv2.imread(image_path)\n",
    "\n",
    "        if image is not None:\n",
    "            #cv2.imshow('Image', image) # Remove the comment here to display all the images\n",
    "            cv2.waitKey(0)\n",
    "            cv2.destroyAllWindows()\n",
    "        else:\n",
    "            print(f\"Failed to load image from {image_path}\")\n"
   ]
  },
  {
   "cell_type": "markdown",
   "id": "510586de",
   "metadata": {},
   "source": [
    "As it can be seen here there are various coins images with different characteristics. Some of them are brighter than other, the sizes are different, so is the shape and some of them have even holes in them. In order to accurately get the right number of coins it is needed to first do a image pre-processing."
   ]
  },
  {
   "cell_type": "markdown",
   "id": "9e3b36b6",
   "metadata": {},
   "source": [
    "## Normalize the image"
   ]
  },
  {
   "cell_type": "markdown",
   "id": "e4824f60",
   "metadata": {},
   "source": [
    "Normalization is being used to standardize the pixel values within the image. This technique is particularly useful for several reasons:\n",
    "\n",
    "Improved Data Consistency: Since the coin images are all different in color, normalization ensures that the pixel values in an image have consistent and standardized scales.\n",
    "\n",
    "Reduced Sensitivity to Intensity Variations: The coin images have variations in illumination and contrast due to factors like lighting conditions. Normalization can help mitigate these variations by scaling the pixel values, making the image more robust to such changes.\n",
    "\n",
    "Enhanced Visualization: Normalized images often have better visual quality, which can aid in the human interpretation of images and make them more suitable for display or presentation purposes.\n",
    "\n",
    "Although there are several methods of normalization, the one used is Min-Max Scaling."
   ]
  },
  {
   "cell_type": "code",
   "execution_count": 290,
   "id": "fc44aaeb",
   "metadata": {},
   "outputs": [],
   "source": [
    "image_path = r'C:\\Users\\User\\Downloads\\Desafio2 - contador de moedas-20231006\\Challenge2\\coins102.jpg'\n",
    "\n",
    "# Load the image\n",
    "img = cv2.imread(image_path)\n",
    "\n",
    "img_norm = cv2.normalize(img, None, 0, 255, cv2.NORM_MINMAX, cv2.CV_8U) # normaliza para [0, 255], inteiros\n",
    "\n",
    "# Display the normalized image\n",
    "cv2.imshow('Normalized Image', img_norm)\n",
    "\n",
    "# Wait for a key press and close windows\n",
    "cv2.waitKey(0)\n",
    "cv2.destroyAllWindows()"
   ]
  },
  {
   "cell_type": "markdown",
   "id": "330bc7d3",
   "metadata": {},
   "source": [
    "## Sharpen the image\n",
    "\n",
    "It was testes several convolution methods but the ones that provided the best result after binarizing the image was sharpening the image with cv2.filter2D(img_norm, -1, sharpenkernel) and then applying a blur. "
   ]
  },
  {
   "cell_type": "code",
   "execution_count": 305,
   "id": "b4f6f70e",
   "metadata": {},
   "outputs": [],
   "source": [
    "sharpenkernel = np.array((\n",
    "[0, -1, 0],\n",
    "[-1,  5, -1],\n",
    "[0, -1, 0]), dtype=np.int8)\n",
    "\n",
    "img_sharpened2 = cv2.filter2D(img_norm, -1, sharpenkernel)\n",
    "\n",
    "\n",
    "cv2.imshow(\"Image sharpened\", img_sharpened2)\n",
    "cv2.waitKey(0)\n",
    "cv2.destroyAllWindows()"
   ]
  },
  {
   "cell_type": "markdown",
   "id": "2c270d13",
   "metadata": {},
   "source": [
    "## Blur the image"
   ]
  },
  {
   "cell_type": "markdown",
   "id": "3f93f129",
   "metadata": {},
   "source": [
    "Blur is a technique used to reduce the level of detail or sharpness in an image. It has both practical and creative applications, but the main reason they were used was to:\n",
    "\n",
    "Noise Reduction: since applying a blur filter can help smooth out these variations and make the image appear cleaner.\n",
    "\n",
    "Image Smoothing: since blurring can be used to smooth or soften the transitions between different regions or objects in an image and help to reduce the appearance of fine details or imperfections, creating a more aesthetically pleasing result.\n",
    "\n",
    "While doing the A/B testing it was tried to enhance the brightness of the image, but that obviouly didn't work because after binarizing the image it seemed that the coins had more holes, what could cause difficulties when trying to detect the edges of the coins. \n",
    "\n",
    "Blurring the image was then the approach chosen. cv2.blur(img, (5,5)) and cv2.GaussianBlur(img, (5, 5)) were tested but the second one proved to be the best for the kind of images provided."
   ]
  },
  {
   "cell_type": "code",
   "execution_count": 306,
   "id": "ff7321cb",
   "metadata": {},
   "outputs": [],
   "source": [
    "# Apply Gaussian Blur\n",
    "blurred_img = cv2.GaussianBlur(img_sharpened2, (7, 7), 2)\n",
    "\n",
    "# Display the blurred image\n",
    "cv2.imshow('Blurred Image', blurred_img)\n",
    "\n",
    "# Wait for a key press and close windows\n",
    "cv2.waitKey(0)\n",
    "cv2.destroyAllWindows()\n"
   ]
  },
  {
   "cell_type": "markdown",
   "id": "60d5fab6",
   "metadata": {},
   "source": [
    "## Gray out the image"
   ]
  },
  {
   "cell_type": "code",
   "execution_count": 297,
   "id": "c697b19b",
   "metadata": {},
   "outputs": [],
   "source": [
    "# Convert the image to grayscale\n",
    "gray_img = cv2.cvtColor(img_sharpened2, cv2.COLOR_BGR2GRAY)\n",
    "\n",
    "# Apply Gaussian Blur\n",
    "blurred_img = cv2.GaussianBlur(gray_img, (7, 7), 2)\n",
    "\n",
    "cv2.imshow('Blurred Image', blurred_img)\n",
    "# Wait for a key press and close windows\n",
    "cv2.waitKey(0)\n",
    "cv2.destroyAllWindows()\n"
   ]
  },
  {
   "cell_type": "markdown",
   "id": "f97cacb0",
   "metadata": {},
   "source": [
    "## Binarize the images"
   ]
  },
  {
   "cell_type": "code",
   "execution_count": 298,
   "id": "fc5f29ae",
   "metadata": {},
   "outputs": [],
   "source": [
    "\n",
    "# Binarize using Otsu's thresholding\n",
    "t, imgBin = cv2.threshold(blurred_img, 0, 255, cv2.THRESH_BINARY + cv2.THRESH_OTSU)\n",
    "\n",
    "# Display the binarized image\n",
    "cv2.imshow('Binarized Image', imgBin)\n",
    "\n",
    "# Wait for a key press and close windows\n",
    "cv2.waitKey(0)\n",
    "cv2.destroyAllWindows()"
   ]
  },
  {
   "cell_type": "markdown",
   "id": "5709ceb7",
   "metadata": {},
   "source": [
    "  ## Apply morphological operations (Closing)\n",
    "  \n",
    "The approach used to better separate the coins and to deal with the holes in the coins was to apply closing. Using the imgClosed = cv2.morphologyEx(imgBin, cv2.MORPH_CLOSE, strel) didn't work very well to hide the holes in the image, so it was decided to apply closing by applying Dilatation followed by Erosion."
   ]
  },
  {
   "cell_type": "markdown",
   "id": "9751ff89",
   "metadata": {},
   "source": [
    "### Apply Dilation\n",
    "\n",
    "Dilation \"grows\" or expands the white regions in the binary image. It fills in small gaps, connects nearby white pixels, and enlarges objects. The size and shape of the structuring element determine how much dilation occurs. A larger structuring element produces a more significant dilation effect. The arguments in the cv2.getStructuringElement() and cv2.dilate() should be used careful to achieve a good dilatation result. \n",
    "\n",
    "After many tries, the arguments below are the ones that provided an optimal result."
   ]
  },
  {
   "cell_type": "code",
   "execution_count": 320,
   "id": "6b0083d2",
   "metadata": {},
   "outputs": [],
   "source": [
    "strel = cv2.getStructuringElement(cv2.MORPH_ELLIPSE, (5, 5))"
   ]
  },
  {
   "cell_type": "code",
   "execution_count": 321,
   "id": "6aa1c91e",
   "metadata": {},
   "outputs": [],
   "source": [
    "# Display the dilated image\n",
    "imgDil = cv2.dilate(imgBin, strel, iterations=8)\n",
    "cv2.imshow(\"Dilated Image\", imgDil)\n",
    "# Wait for a key press and close windows\n",
    "cv2.waitKey(0)\n",
    "cv2.destroyAllWindows()"
   ]
  },
  {
   "cell_type": "markdown",
   "id": "5f187b8c",
   "metadata": {},
   "source": [
    "### Apply Erosion\n",
    "\n",
    "After performing dilation, the resulting image is subjected to an erosion operation.\n",
    "Similar to dilation, the kernel is moved over the image, but this time, the output pixel becomes white only if all the pixels under the kernel are white.\n",
    "Erosion \"shrinks\" or erodes the white regions in the binary image. It removes small protrusions, reduces object sizes, and smoothens object boundaries.\n",
    "Like with dilation, the size and shape of the structuring element influence the extent of erosion. A larger structuring element produces less erosion effect."
   ]
  },
  {
   "cell_type": "code",
   "execution_count": 322,
   "id": "dcd97f1c",
   "metadata": {},
   "outputs": [],
   "source": [
    "strel = cv2.getStructuringElement(cv2.MORPH_ELLIPSE, (3, 3))"
   ]
  },
  {
   "cell_type": "code",
   "execution_count": 323,
   "id": "4d2b5cc2",
   "metadata": {},
   "outputs": [],
   "source": [
    "# Apply morphological operation: Erosion\n",
    "imgEro = cv2.erode(imgDil, strel, iterations = 9)\n",
    "\n",
    "# Display the eroded image\n",
    "cv2.imshow(\"Eroded Image\", imgEro)\n",
    "\n",
    "\n",
    "# Wait for a key press and close windows\n",
    "cv2.waitKey(0)\n",
    "cv2.destroyAllWindows()"
   ]
  },
  {
   "cell_type": "markdown",
   "id": "5bb3ef89",
   "metadata": {},
   "source": [
    "## Count the number of coins"
   ]
  },
  {
   "cell_type": "code",
   "execution_count": 324,
   "id": "4088c71b",
   "metadata": {},
   "outputs": [
    {
     "name": "stdout",
     "output_type": "stream",
     "text": [
      "Number of coins is 93\n"
     ]
    }
   ],
   "source": [
    "\n",
    "# Find contours\n",
    "contours, _ = cv2.findContours(imgEro, cv2.RETR_TREE, cv2.CHAIN_APPROX_NONE)\n",
    "\n",
    "area = {}\n",
    "for i in range(len(contours)):\n",
    "    cnt = contours[i]\n",
    "    ar = cv2.contourArea(cnt)\n",
    "    area[i] = ar\n",
    "\n",
    "srt = sorted(area.items(), key=lambda x: x[1], reverse=True)\n",
    "results = np.array(srt).astype(\"int\")\n",
    "num = np.argwhere(results[:, 1] > 500).shape[0]\n",
    "\n",
    "for i in range(1, num):\n",
    "    img = cv2.drawContours(img, contours, results[i, 0], (0, 255, 0), 3)\n",
    "\n",
    "print(\"Number of coins is\", num - 1)\n",
    "cv2.imshow(\"Final\", img)\n",
    "#cv2.imshow(\"Eroded Image\", imgEro)\n",
    "\n",
    "# Wait for a key press to continue to the next image\n",
    "cv2.waitKey(0)\n",
    "cv2.destroyAllWindows()\n"
   ]
  },
  {
   "cell_type": "markdown",
   "id": "2e2169f0",
   "metadata": {},
   "source": [
    "## Repeat all the steps for all the coins"
   ]
  },
  {
   "cell_type": "markdown",
   "id": "7cd9d541",
   "metadata": {},
   "source": [
    "To apply the algorithm in a chosen images, copy the path to the image where the images are located and paste in the 'directory' variable defined below. The images should be in 'jpg'. If your images are in a diferent format, you can change the format in the  if filename.endswith(\".format\") to the desired format."
   ]
  },
  {
   "cell_type": "code",
   "execution_count": 332,
   "id": "41ccc756",
   "metadata": {},
   "outputs": [
    {
     "name": "stdout",
     "output_type": "stream",
     "text": [
      "Number of coins found is 10 out of 10 : 100.0 %\n",
      "Number of coins found is 91 out of 100 : 91.0 %\n",
      "Number of coins found is 93 out of 102 : 91.17647058823529 %\n",
      "Number of coins found is 30 out of 30 : 100.0 %\n",
      "Number of coins found is 42 out of 50 : 84.0 %\n",
      "Number of coins found is 6 out of 6 : 100.0 %\n"
     ]
    }
   ],
   "source": [
    "import re\n",
    "import os\n",
    "import cv2\n",
    "import numpy as np\n",
    "\n",
    "directory = r'C:\\Users\\User\\Downloads\\Desafio2 - contador de moedas-20231006\\Challenge2'\n",
    "\n",
    "for filename in os.listdir(directory):\n",
    "    if filename.endswith(\".jpg\"):\n",
    "        image_path = os.path.join(directory, filename)\n",
    "\n",
    "        # Load the image\n",
    "        img = cv2.imread(image_path)\n",
    "        \n",
    "        # Normalize the image \n",
    "        img_norm = cv2.normalize(img, None, 0, 255, cv2.NORM_MINMAX, cv2.CV_8U) # normaliza para [0, 255], inteiros\n",
    "        \n",
    "        #Sharpen the image\n",
    "        sharpenkernel = np.array((\n",
    "        [0, -1, 0],\n",
    "        [-1,  5, -1],\n",
    "        [0, -1, 0]), dtype=np.int8)\n",
    "\n",
    "        img_sharpened2 = cv2.filter2D(img_norm, -1, sharpenkernel)\n",
    "\n",
    "        # Apply Gaussian Blur\n",
    "        blurred_img = cv2.GaussianBlur(img_sharpened2, (7, 7), 2) # 2 e 4 são os melhores\n",
    "        \n",
    "        # Convert the blurred image to grayscale\n",
    "        img_gray = cv2.cvtColor(blurred_img, cv2.COLOR_BGR2GRAY)\n",
    "        \n",
    "        # Binarize using Otsu's thresholding\n",
    "        t, imgBin = cv2.threshold(img_gray, 0, 255, cv2.THRESH_BINARY + cv2.THRESH_OTSU)\n",
    "\n",
    "        # Apply rectangular dilation\n",
    "        strel = cv2.getStructuringElement(cv2.MORPH_ELLIPSE, (5, 5))\n",
    "        imgDil = cv2.dilate(imgBin, strel, iterations=8)\n",
    "        \n",
    "        # Apply morphological operation: Erosion\n",
    "        strel = cv2.getStructuringElement(cv2.MORPH_ELLIPSE, (3, 3))\n",
    "        imgEro = cv2.erode(imgDil, strel, iterations=9)\n",
    "        \n",
    "        # Find contours\n",
    "        contours, _ = cv2.findContours(imgEro, cv2.RETR_TREE, cv2.CHAIN_APPROX_NONE)\n",
    "\n",
    "        area = {}\n",
    "        for i in range(len(contours)):\n",
    "            cnt = contours[i]\n",
    "            ar = cv2.contourArea(cnt)\n",
    "            area[i] = ar\n",
    "\n",
    "        srt = sorted(area.items(), key=lambda x: x[1], reverse=True)\n",
    "        results = np.array(srt).astype(\"int\")\n",
    "        num = np.argwhere(results[:, 1] > 500).shape[0]\n",
    "\n",
    "        for i in range(1, num):\n",
    "            img = cv2.drawContours(img, contours, results[i, 0], (0, 255, 0), 3)\n",
    "        \n",
    "        match = re.search(r'coins(\\d+)\\.jpg', filename)\n",
    "        digit = match.group(1)\n",
    "\n",
    "        print(\"Number of coins found is\", num - 1, \"out of\", digit, \":\", ((num-1)/int(digit))*100, '%')\n",
    "        cv2.imshow(filename, img)\n",
    "        \n",
    "        # Wait for a key press and close windows\n",
    "        cv2.waitKey(0)\n",
    "        cv2.destroyAllWindows()\n"
   ]
  }
 ],
 "metadata": {
  "kernelspec": {
   "display_name": "Python 3 (ipykernel)",
   "language": "python",
   "name": "python3"
  },
  "language_info": {
   "codemirror_mode": {
    "name": "ipython",
    "version": 3
   },
   "file_extension": ".py",
   "mimetype": "text/x-python",
   "name": "python",
   "nbconvert_exporter": "python",
   "pygments_lexer": "ipython3",
   "version": "3.11.5"
  }
 },
 "nbformat": 4,
 "nbformat_minor": 5
}
